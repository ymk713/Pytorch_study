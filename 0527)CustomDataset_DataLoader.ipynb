{
  "nbformat": 4,
  "nbformat_minor": 0,
  "metadata": {
    "colab": {
      "private_outputs": true,
      "provenance": [],
      "authorship_tag": "ABX9TyP7U3nQNVDeRNAbOA3K92jq",
      "include_colab_link": true
    },
    "kernelspec": {
      "name": "python3",
      "display_name": "Python 3"
    },
    "language_info": {
      "name": "python"
    }
  },
  "cells": [
    {
      "cell_type": "markdown",
      "metadata": {
        "id": "view-in-github",
        "colab_type": "text"
      },
      "source": [
        "<a href=\"https://colab.research.google.com/github/ymk713/Pytorch_study/blob/main/0527)CustomDataset_DataLoader.ipynb\" target=\"_parent\"><img src=\"https://colab.research.google.com/assets/colab-badge.svg\" alt=\"Open In Colab\"/></a>"
      ]
    },
    {
      "cell_type": "markdown",
      "source": [
        "## DataSet 정의"
      ],
      "metadata": {
        "id": "CBw14aQgmh2G"
      }
    },
    {
      "cell_type": "code",
      "execution_count": null,
      "metadata": {
        "id": "650uLzz2k7Bk"
      },
      "outputs": [],
      "source": [
        "import torch\n",
        "\n",
        "x_train = torch.Tensor([1, 2, 3, 4, 5, 6]).view(6,1)\n",
        "y_train = torch.Tensor([3, 4, 5, 6, 7, 8]).view(6,1)"
      ]
    },
    {
      "cell_type": "code",
      "source": [
        "from torch.utils.data import Dataset, DataLoader ## 반드시 아래 세가지 클래스 정의 필요\n",
        "\n",
        "class CustomDataset(Dataset): ## 입력데이터, 정답을 저장\n",
        "    def __init__(self, x_train, y_train):\n",
        "        self.x_train = x_train\n",
        "        self.y_train = y_train\n",
        "\n",
        "    def __getitem__(self, index): ## 인덱스에 해당하는 아이템을 넘김\n",
        "        return self.x_train[index], self.y_train[index]\n",
        "\n",
        "    def __len__(self): # 데이터 사이즈 확인\n",
        "        return self.x_train.shape[0]"
      ],
      "metadata": {
        "id": "C2Jb8ltBmk3O"
      },
      "execution_count": null,
      "outputs": []
    },
    {
      "cell_type": "markdown",
      "source": [
        "## Dataset 인스턴스 / DataLoader 인스턴스 생성"
      ],
      "metadata": {
        "id": "j2GNdHETnSLK"
      }
    },
    {
      "cell_type": "code",
      "source": [
        "dataset = CustomDataset(x_train, y_train)\n",
        "\n",
        "train_loader = DataLoader(dataset=dataset, batch_size=3, shuffle=True)"
      ],
      "metadata": {
        "id": "qHOnAsCAmk5l"
      },
      "execution_count": null,
      "outputs": []
    },
    {
      "cell_type": "code",
      "source": [
        "total_batch = len(train_loader)\n",
        "\n",
        "print(total_batch)"
      ],
      "metadata": {
        "id": "YYf_zIclmk8E"
      },
      "execution_count": null,
      "outputs": []
    },
    {
      "cell_type": "markdown",
      "source": [
        "## 신경망 모델 생성"
      ],
      "metadata": {
        "id": "vclwYiz1n_Bx"
      }
    },
    {
      "cell_type": "code",
      "source": [
        "from torch import nn\n",
        "\n",
        "class MyLinearRegressionModel(nn.Module):\n",
        "\n",
        "    def __init__(self):\n",
        "        super().__init__()\n",
        "        self.linear_stack = nn.Sequential(\n",
        "            nn.Linear(1, 1)\n",
        "        )\n",
        "\n",
        "    def forward(self, data):\n",
        "        prediction = self.linear_stack(data)\n",
        "\n",
        "        return prediction"
      ],
      "metadata": {
        "id": "n3tA_254mk-m"
      },
      "execution_count": null,
      "outputs": []
    },
    {
      "cell_type": "code",
      "source": [
        "model = MyLinearRegressionModel()"
      ],
      "metadata": {
        "id": "w6rBod3FmlBC"
      },
      "execution_count": null,
      "outputs": []
    },
    {
      "cell_type": "markdown",
      "source": [
        "## 손실함수 및 옵티마이저 설정"
      ],
      "metadata": {
        "id": "HoDHMmH2oGux"
      }
    },
    {
      "cell_type": "code",
      "source": [
        "loss_function = nn.MSELoss()\n",
        "\n",
        "optimizer = torch.optim.SGD(model.parameters(), lr=1e-2)"
      ],
      "metadata": {
        "id": "CFHELWHDoFHh"
      },
      "execution_count": null,
      "outputs": []
    },
    {
      "cell_type": "code",
      "source": [
        "for epoch in range(2):\n",
        "\n",
        "    for idx, batch_data in enumerate(train_loader):\n",
        "\n",
        "        x_train_batch, y_train_batch = batch_data\n",
        "\n",
        "        output_batch = model(x_train_batch)\n",
        "\n",
        "        print('==============================================')\n",
        "        print('epoch =', epoch+1, ', batch_idx =', idx+1, ',',\n",
        "              len(x_train_batch), len(y_train_batch), len(output_batch))\n",
        "        print('==============================================')\n",
        "\n",
        "        loss = loss_function(output_batch, y_train_batch)\n",
        "\n",
        "        optimizer.zero_grad()\n",
        "        loss.backward()\n",
        "        optimizer.step()"
      ],
      "metadata": {
        "id": "DSo8iDXQoJgX"
      },
      "execution_count": null,
      "outputs": []
    }
  ]
}