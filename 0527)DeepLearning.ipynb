{
  "nbformat": 4,
  "nbformat_minor": 0,
  "metadata": {
    "colab": {
      "provenance": [],
      "authorship_tag": "ABX9TyOfCpHVgOUjX9r8c6C8S7Gw",
      "include_colab_link": true
    },
    "kernelspec": {
      "name": "python3",
      "display_name": "Python 3"
    },
    "language_info": {
      "name": "python"
    }
  },
  "cells": [
    {
      "cell_type": "markdown",
      "metadata": {
        "id": "view-in-github",
        "colab_type": "text"
      },
      "source": [
        "<a href=\"https://colab.research.google.com/github/ymk713/Pytorch_study/blob/main/0527)DeepLearning.ipynb\" target=\"_parent\"><img src=\"https://colab.research.google.com/assets/colab-badge.svg\" alt=\"Open In Colab\"/></a>"
      ]
    },
    {
      "cell_type": "markdown",
      "source": [
        "## 데이터 정의"
      ],
      "metadata": {
        "id": "L5cJcb9iqwRN"
      }
    },
    {
      "cell_type": "code",
      "execution_count": 1,
      "metadata": {
        "colab": {
          "base_uri": "https://localhost:8080/"
        },
        "id": "rz6yhjE5qo4I",
        "outputId": "9a028c7c-ca65-4f00-bfaa-833e1bccb306"
      },
      "outputs": [
        {
          "output_type": "stream",
          "name": "stdout",
          "text": [
            "torch.Size([10, 1]) torch.Size([10, 1])\n"
          ]
        }
      ],
      "source": [
        "import torch\n",
        "\n",
        "x_train = torch.Tensor([2, 4, 6, 8, 10,\n",
        "                        12, 14, 16, 18, 20]).view(10,1)\n",
        "y_train = torch.Tensor([0, 0, 0, 0, 0,\n",
        "                        0, 1, 1, 1, 1]).view(10,1)\n",
        "\n",
        "print(x_train.shape, y_train.shape)"
      ]
    },
    {
      "cell_type": "markdown",
      "source": [
        "## 신경망 모델 구축"
      ],
      "metadata": {
        "id": "vY4EVDw7q1G-"
      }
    },
    {
      "cell_type": "code",
      "source": [
        "from torch import nn\n",
        "\n",
        "class MyDeepLearningModel(nn.Module):\n",
        "    def __init__(self):\n",
        "        super().__init__()\n",
        "        self.deeplearning_stack = nn.Sequential(\n",
        "            nn.Linear(1, 8), # 은닉층\n",
        "            nn.Linear(8,1),  # 출력층\n",
        "            nn.Sigmoid()\n",
        "        )\n",
        "    def forward(self, data):\n",
        "        prediction = self.deeplearning_stack(data)\n",
        "        return prediction"
      ],
      "metadata": {
        "id": "SStFMe-vq9-c"
      },
      "execution_count": 2,
      "outputs": []
    },
    {
      "cell_type": "code",
      "source": [
        "deeplearning_model = MyDeepLearningModel() # 모델 인스턴스 생성\n",
        "\n",
        "for name, child in deeplearning_model.named_children():\n",
        "    for param in child.parameters():\n",
        "        print(name, param)"
      ],
      "metadata": {
        "colab": {
          "base_uri": "https://localhost:8080/"
        },
        "id": "uwdZMYBPr5az",
        "outputId": "5604443b-5864-4c92-987b-7512a88dd5a9"
      },
      "execution_count": 3,
      "outputs": [
        {
          "output_type": "stream",
          "name": "stdout",
          "text": [
            "deeplearning_stack Parameter containing:\n",
            "tensor([[ 0.3297],\n",
            "        [-0.5254],\n",
            "        [-0.9999],\n",
            "        [ 0.7523],\n",
            "        [-0.2068],\n",
            "        [ 0.1876],\n",
            "        [ 0.5561],\n",
            "        [-0.1928]], requires_grad=True)\n",
            "deeplearning_stack Parameter containing:\n",
            "tensor([-0.3528,  0.5525,  0.2207,  0.9438,  0.9379, -0.7569, -0.4682,  0.0495],\n",
            "       requires_grad=True)\n",
            "deeplearning_stack Parameter containing:\n",
            "tensor([[ 0.2012, -0.0335,  0.3496,  0.3062,  0.3133, -0.1889,  0.2655, -0.2794]],\n",
            "       requires_grad=True)\n",
            "deeplearning_stack Parameter containing:\n",
            "tensor([0.2607], requires_grad=True)\n"
          ]
        }
      ]
    },
    {
      "cell_type": "code",
      "source": [
        "loss_function = nn.BCELoss()\n",
        "\n",
        "optimizer = torch.optim.SGD(deeplearning_model.parameters(), lr = 1e-1)"
      ],
      "metadata": {
        "id": "YpRFrBzcr5dE"
      },
      "execution_count": 4,
      "outputs": []
    },
    {
      "cell_type": "code",
      "source": [
        "nums_epoch = 5000\n",
        "for epoch in range(nums_epoch+1):\n",
        "    outputs = deeplearning_model(x_train)\n",
        "    loss = loss_function(outputs, y_train)\n",
        "    optimizer.zero_grad()\n",
        "    loss.backward()\n",
        "    optimizer.step()\n",
        "\n",
        "    if epoch%100 == 0:\n",
        "        print('epoch = ', epoch, ' current loss = ', loss.item())"
      ],
      "metadata": {
        "colab": {
          "base_uri": "https://localhost:8080/"
        },
        "id": "U0qg6zcer5fU",
        "outputId": "2681d423-9e94-421b-8b26-d4a942c82fb0"
      },
      "execution_count": 5,
      "outputs": [
        {
          "output_type": "stream",
          "name": "stdout",
          "text": [
            "epoch =  0  current loss =  0.979475200176239\n",
            "epoch =  100  current loss =  0.40507760643959045\n",
            "epoch =  200  current loss =  0.32023540139198303\n",
            "epoch =  300  current loss =  0.27123698592185974\n",
            "epoch =  400  current loss =  0.2385093718767166\n",
            "epoch =  500  current loss =  0.2147645503282547\n",
            "epoch =  600  current loss =  0.19658029079437256\n",
            "epoch =  700  current loss =  0.18211199343204498\n",
            "epoch =  800  current loss =  0.1702658236026764\n",
            "epoch =  900  current loss =  0.16034767031669617\n",
            "epoch =  1000  current loss =  0.15189339220523834\n",
            "epoch =  1100  current loss =  0.14458107948303223\n",
            "epoch =  1200  current loss =  0.13817651569843292\n",
            "epoch =  1300  current loss =  0.1325085461139679\n",
            "epoch =  1400  current loss =  0.1274467259645462\n",
            "epoch =  1500  current loss =  0.12289055436849594\n",
            "epoch =  1600  current loss =  0.11876138299703598\n",
            "epoch =  1700  current loss =  0.11499576270580292\n",
            "epoch =  1800  current loss =  0.1115436777472496\n",
            "epoch =  1900  current loss =  0.10836233198642731\n",
            "epoch =  2000  current loss =  0.10541863739490509\n",
            "epoch =  2100  current loss =  0.10268336534500122\n",
            "epoch =  2200  current loss =  0.10013248771429062\n",
            "epoch =  2300  current loss =  0.09774411469697952\n",
            "epoch =  2400  current loss =  0.09550376236438751\n",
            "epoch =  2500  current loss =  0.09339414536952972\n",
            "epoch =  2600  current loss =  0.09140143543481827\n",
            "epoch =  2700  current loss =  0.0895189419388771\n",
            "epoch =  2800  current loss =  0.08774366974830627\n",
            "epoch =  2900  current loss =  0.08589842170476913\n",
            "epoch =  3000  current loss =  0.08117865771055222\n",
            "epoch =  3100  current loss =  0.04027556627988815\n",
            "epoch =  3200  current loss =  0.04352710768580437\n",
            "epoch =  3300  current loss =  0.03287465125322342\n",
            "epoch =  3400  current loss =  0.035201556980609894\n",
            "epoch =  3500  current loss =  0.030462589114904404\n",
            "epoch =  3600  current loss =  0.038956183940172195\n",
            "epoch =  3700  current loss =  0.029899150133132935\n",
            "epoch =  3800  current loss =  0.0262934360653162\n",
            "epoch =  3900  current loss =  0.034491024911403656\n",
            "epoch =  4000  current loss =  0.028032545000314713\n",
            "epoch =  4100  current loss =  0.024709230288863182\n",
            "epoch =  4200  current loss =  0.02205895073711872\n",
            "epoch =  4300  current loss =  0.15324124693870544\n",
            "epoch =  4400  current loss =  0.026915038004517555\n",
            "epoch =  4500  current loss =  0.023679058998823166\n",
            "epoch =  4600  current loss =  0.02110750414431095\n",
            "epoch =  4700  current loss =  0.01901216432452202\n",
            "epoch =  4800  current loss =  0.01727137342095375\n",
            "epoch =  4900  current loss =  0.015802446752786636\n",
            "epoch =  5000  current loss =  0.014546860940754414\n"
          ]
        }
      ]
    },
    {
      "cell_type": "code",
      "source": [
        "for name, child in deeplearning_model.named_children():\n",
        "    for param in child.parameters():\n",
        "        print(name, param)"
      ],
      "metadata": {
        "colab": {
          "base_uri": "https://localhost:8080/"
        },
        "id": "PJcE898pr5hr",
        "outputId": "00c24568-ac48-4042-83d6-8eb9d1e25294"
      },
      "execution_count": 6,
      "outputs": [
        {
          "output_type": "stream",
          "name": "stdout",
          "text": [
            "deeplearning_stack Parameter containing:\n",
            "tensor([[ 0.2323],\n",
            "        [-0.3131],\n",
            "        [-0.0937],\n",
            "        [-0.3968],\n",
            "        [-0.4344],\n",
            "        [ 0.3631],\n",
            "        [ 0.3132],\n",
            "        [-0.0846]], requires_grad=True)\n",
            "deeplearning_stack Parameter containing:\n",
            "tensor([-2.5194,  3.3952,  1.0160,  4.3035,  4.7113, -3.9376, -3.3963,  0.9169],\n",
            "       requires_grad=True)\n",
            "deeplearning_stack Parameter containing:\n",
            "tensor([[ 0.8101, -1.0917, -0.3267, -1.3838, -1.5149,  1.2661,  1.0921, -0.2948]],\n",
            "       requires_grad=True)\n",
            "deeplearning_stack Parameter containing:\n",
            "tensor([-5.5078], requires_grad=True)\n"
          ]
        }
      ]
    },
    {
      "cell_type": "markdown",
      "source": [
        "## test data 이용한 예측"
      ],
      "metadata": {
        "id": "eONJHNS1s9Cy"
      }
    },
    {
      "cell_type": "code",
      "source": [
        "deeplearning_model.eval() # 신경망을 추론 모드로 변환\n",
        "test_data = torch.Tensor([0.5, 3.0, 3.5, 11.0, 13.0, 31.0]).view(6,1)\n",
        "\n",
        "pred = deeplearning_model(test_data) # 6개의 test_data 에 대해 예측 실행\n",
        "logical_value = (pred > 0.5).float() # 예측값이 0.5 초과하면 True 값을 실수 1.0으로 type casting\n",
        "                                     # 예측값이 0.5 이하이면 False 값을 실수 0.0으로 type casting\n",
        "\n",
        "print(pred)\n",
        "print(logical_value)"
      ],
      "metadata": {
        "colab": {
          "base_uri": "https://localhost:8080/"
        },
        "id": "q9iyEZips_0O",
        "outputId": "716338a9-adb0-43a1-af19-bd2aaa7fed62"
      },
      "execution_count": 7,
      "outputs": [
        {
          "output_type": "stream",
          "name": "stdout",
          "text": [
            "tensor([[8.9516e-15],\n",
            "        [5.8726e-12],\n",
            "        [2.1489e-11],\n",
            "        [6.0309e-03],\n",
            "        [5.2103e-01],\n",
            "        [1.0000e+00]], grad_fn=<SigmoidBackward0>)\n",
            "tensor([[0.],\n",
            "        [0.],\n",
            "        [0.],\n",
            "        [0.],\n",
            "        [1.],\n",
            "        [1.]])\n"
          ]
        }
      ]
    },
    {
      "cell_type": "markdown",
      "source": [
        "\n",
        "**결과해석**\n",
        "\n",
        "입력 데이터가 12 이하인 0.5, 3.0, 3.5, 11.0에 대해서는 0을 예측하고,\n",
        "14 이상이면 1을 예측함.\n",
        "13에 대해서는 약 52.1%확률로 1을 예측함\n",
        "\n"
      ],
      "metadata": {
        "id": "utxr-UobtvIx"
      }
    },
    {
      "cell_type": "code",
      "source": [],
      "metadata": {
        "id": "xBonBQwHs_2p"
      },
      "execution_count": null,
      "outputs": []
    },
    {
      "cell_type": "code",
      "source": [],
      "metadata": {
        "id": "lVnsn1Bvs_43"
      },
      "execution_count": null,
      "outputs": []
    }
  ]
}