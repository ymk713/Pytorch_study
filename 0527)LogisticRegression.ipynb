{
  "nbformat": 4,
  "nbformat_minor": 0,
  "metadata": {
    "colab": {
      "private_outputs": true,
      "provenance": [],
      "mount_file_id": "1StMYa_QN8OAK3GRXTfuWrQpxGkovMZ7h",
      "authorship_tag": "ABX9TyPrpI8A9/4JK2XkrLhOK/FE",
      "include_colab_link": true
    },
    "kernelspec": {
      "name": "python3",
      "display_name": "Python 3"
    },
    "language_info": {
      "name": "python"
    }
  },
  "cells": [
    {
      "cell_type": "markdown",
      "metadata": {
        "id": "view-in-github",
        "colab_type": "text"
      },
      "source": [
        "<a href=\"https://colab.research.google.com/github/ymk713/Pytorch_study/blob/main/0527)LogisticRegression.ipynb\" target=\"_parent\"><img src=\"https://colab.research.google.com/assets/colab-badge.svg\" alt=\"Open In Colab\"/></a>"
      ]
    },
    {
      "cell_type": "markdown",
      "source": [
        "## 데이터 정의"
      ],
      "metadata": {
        "id": "k5RZs5xahr-h"
      }
    },
    {
      "cell_type": "code",
      "execution_count": null,
      "metadata": {
        "id": "ifWr9NCGeTUM"
      },
      "outputs": [],
      "source": [
        "import numpy as np\n",
        "\n",
        "loaded_data = np.loadtxt('/content/drive/MyDrive/파이토치/diabetes.csv', delimiter = ',')\n",
        "x_train_np = loaded_data[ : , 0:-1]\n",
        "y_train_np = loaded_data[ : , [-1]]"
      ]
    },
    {
      "cell_type": "code",
      "source": [
        "print('loaded_data.shape = ', loaded_data.shape)\n",
        "print('x_train_np.shape = ', x_train_np.shape)\n",
        "print('y_train_np.shape = ', y_train_np.shape)"
      ],
      "metadata": {
        "id": "KeIZeckThrPv"
      },
      "execution_count": null,
      "outputs": []
    },
    {
      "cell_type": "code",
      "source": [
        "import torch\n",
        "from torch import nn\n",
        "\n",
        "x_train = torch.Tensor(x_train_np)\n",
        "y_train = torch.Tensor(y_train_np)"
      ],
      "metadata": {
        "id": "U5LioGFqhquR"
      },
      "execution_count": null,
      "outputs": []
    },
    {
      "cell_type": "markdown",
      "source": [
        "## 신경망 모델 구축"
      ],
      "metadata": {
        "id": "4H3XnjdliR7q"
      }
    },
    {
      "cell_type": "code",
      "source": [
        "class MyLogisticRegressionModel(nn.Module):\n",
        "    def __init__(self):\n",
        "        super().__init__()\n",
        "        self.logistic_stack = nn.Sequential(\n",
        "            nn.Linear(8,1),\n",
        "            nn.Sigmoid()\n",
        "        )\n",
        "    def forward(self, data):\n",
        "        prediction = self.logistic_stack(data)\n",
        "        return prediction\n",
        "\n",
        "model = MyLogisticRegressionModel()\n",
        "\n",
        "for param in model.parameters():\n",
        "    print(param)"
      ],
      "metadata": {
        "id": "Zn3W31OwiPSn"
      },
      "execution_count": null,
      "outputs": []
    },
    {
      "cell_type": "markdown",
      "source": [
        "## 손실함수 및 옵티마이저 설정"
      ],
      "metadata": {
        "id": "yj1a7ctZizGG"
      }
    },
    {
      "cell_type": "code",
      "source": [
        "loss_function = nn.BCELoss()\n",
        "optimizer = torch.optim.SGD(model.parameters(), lr = 1e-1)"
      ],
      "metadata": {
        "id": "4gaVC2OriPU7"
      },
      "execution_count": null,
      "outputs": []
    },
    {
      "cell_type": "code",
      "source": [
        "train_loss_list = []\n",
        "train_accuracy_list = []\n",
        "\n",
        "nums_epoch = 5000\n",
        "\n",
        "\n",
        "for epoch in range(nums_epoch+1):\n",
        "    outputs = model(x_train)\n",
        "    loss = loss_function(outputs, y_train)\n",
        "    train_loss_list.append(loss.item())\n",
        "\n",
        "    prediction = outputs > 0.5\n",
        "    correct = (prediction.float() == y_train)\n",
        "    accuracy = correct.sum().item() / len(correct)\n",
        "\n",
        "    train_accuracy_list.append(accuracy)\n",
        "\n",
        "    optimizer.zero_grad()\n",
        "    loss.backward()\n",
        "    optimizer.step()\n",
        "\n",
        "    if epoch % 100 == 0:\n",
        "        print('epoch = ', epoch, ' current loss = ', loss.item(), ' accuracy = ', accuracy)"
      ],
      "metadata": {
        "id": "B7m_foBYiPXY"
      },
      "execution_count": null,
      "outputs": []
    },
    {
      "cell_type": "markdown",
      "source": [
        "## 손실 및 정확도 추세"
      ],
      "metadata": {
        "id": "_l-r0KDOj6gE"
      }
    },
    {
      "cell_type": "code",
      "source": [
        "import matplotlib.pyplot as plt\n",
        "plt.title('Loss Trend')\n",
        "plt.xlabel('epochs')\n",
        "plt.ylabel('loss')\n",
        "plt.grid()\n",
        "\n",
        "plt.plot(train_loss_list, label = 'train loss')\n",
        "plt.legend(loc= 'best')\n",
        "\n",
        "plt.show()"
      ],
      "metadata": {
        "id": "3-JqRacWiPZs"
      },
      "execution_count": null,
      "outputs": []
    },
    {
      "cell_type": "code",
      "source": [
        "import matplotlib.pyplot as plt\n",
        "\n",
        "plt.title('Accuracy Trend')\n",
        "plt.xlabel('epochs')\n",
        "plt.ylabel('accuracy')\n",
        "plt.grid()\n",
        "\n",
        "plt.plot(train_accuracy_list, label='train accuracy')\n",
        "plt.legend(loc='best')\n",
        "\n",
        "plt.show()"
      ],
      "metadata": {
        "id": "n-isaTW8iPcR"
      },
      "execution_count": null,
      "outputs": []
    },
    {
      "cell_type": "markdown",
      "source": [
        "배치 사이즈 설정 필요\n",
        "- 지금은 학습을 위해 전체 데이터(759x8)를 모두 시스템에 입력으로 주고 계산을 하였지만, 이러면 **계산 속도와 정확도 등의 시스템 성능이 떨어지기 때문에**, 한번에 입력으로 들어가는 데이터 크기인 배치 사이즈 설정이 반드시 필요함"
      ],
      "metadata": {
        "id": "ppUbLRpZkV0h"
      }
    }
  ]
}