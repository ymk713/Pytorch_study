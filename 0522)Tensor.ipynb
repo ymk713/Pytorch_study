{
  "nbformat": 4,
  "nbformat_minor": 0,
  "metadata": {
    "colab": {
      "provenance": [],
      "gpuType": "T4",
      "authorship_tag": "ABX9TyOrPXe8/EAEqo+nHOcO2Dm3",
      "include_colab_link": true
    },
    "kernelspec": {
      "name": "python3",
      "display_name": "Python 3"
    },
    "language_info": {
      "name": "python"
    },
    "accelerator": "GPU"
  },
  "cells": [
    {
      "cell_type": "markdown",
      "metadata": {
        "id": "view-in-github",
        "colab_type": "text"
      },
      "source": [
        "<a href=\"https://colab.research.google.com/github/ymk713/Pytorch_study/blob/main/0522)Tensor.ipynb\" target=\"_parent\"><img src=\"https://colab.research.google.com/assets/colab-badge.svg\" alt=\"Open In Colab\"/></a>"
      ]
    },
    {
      "cell_type": "markdown",
      "source": [
        "### 텐서 생성 - from list"
      ],
      "metadata": {
        "id": "kcGN9e8gZfwk"
      }
    },
    {
      "cell_type": "code",
      "execution_count": 1,
      "metadata": {
        "id": "SdRF3iSmX11y"
      },
      "outputs": [],
      "source": [
        "import torch\n",
        "import numpy as np\n",
        "\n",
        "list_data = [[10,20], [30,40]]"
      ]
    },
    {
      "cell_type": "code",
      "source": [
        "tensor1 = torch.Tensor(list_data)\n",
        "\n",
        "print(tensor1)\n",
        "print(f\"tensor type: {type(tensor1)}, tensor shape: {tensor1.shape}\")\n",
        "print(f\"tensor type: {tensor1.dtype}, tensor device: {tensor1.device}\")"
      ],
      "metadata": {
        "colab": {
          "base_uri": "https://localhost:8080/"
        },
        "id": "LWOAmlM5ZDAx",
        "outputId": "d76a3d54-e158-4dec-f10e-b8612e857c42"
      },
      "execution_count": 2,
      "outputs": [
        {
          "output_type": "stream",
          "name": "stdout",
          "text": [
            "tensor([[10., 20.],\n",
            "        [30., 40.]])\n",
            "tensor type: <class 'torch.Tensor'>, tensor shape: torch.Size([2, 2])\n",
            "tensor type: torch.float32, tensor device: cpu\n"
          ]
        }
      ]
    },
    {
      "cell_type": "code",
      "source": [
        "if torch.cuda.is_available():\n",
        "    tensor1 = tensor1.to(\"cuda\")\n",
        "\n",
        "print(f\"tensor type: {type(tensor1)}, tensor shape: {tensor1.shape}\")\n",
        "print(f\"tensor type: {tensor1.dtype}, tensor device: {tensor1.device}\")"
      ],
      "metadata": {
        "colab": {
          "base_uri": "https://localhost:8080/"
        },
        "id": "XLm6eZ4bZZC7",
        "outputId": "172db370-394e-47aa-fc64-b84e6a797254"
      },
      "execution_count": 3,
      "outputs": [
        {
          "output_type": "stream",
          "name": "stdout",
          "text": [
            "tensor type: <class 'torch.Tensor'>, tensor shape: torch.Size([2, 2])\n",
            "tensor type: torch.float32, tensor device: cuda:0\n"
          ]
        }
      ]
    },
    {
      "cell_type": "markdown",
      "source": [
        "### 텐서 생성 - from numpy"
      ],
      "metadata": {
        "id": "bp7yOiV3aRjI"
      }
    },
    {
      "cell_type": "code",
      "source": [
        "numpy_data = np.array(list_data)\n",
        "tensor2 = torch.Tensor(numpy_data)\n",
        "\n",
        "print(tensor2)\n",
        "print(f'tensor type: {type(tensor2)}, tensor shape: {tensor2.shape}')\n",
        "print(f'tensor dtype: {tensor2.dtype}, tensor device: {tensor2.device}')"
      ],
      "metadata": {
        "colab": {
          "base_uri": "https://localhost:8080/"
        },
        "id": "3mAefKneaD3L",
        "outputId": "ede51388-472d-42c8-f2d0-4cdc557373a7"
      },
      "execution_count": 5,
      "outputs": [
        {
          "output_type": "stream",
          "name": "stdout",
          "text": [
            "tensor([[10., 20.],\n",
            "        [30., 40.]])\n",
            "tensor type: <class 'torch.Tensor'>, tensor shape: torch.Size([2, 2])\n",
            "tensor dtype: torch.float32, tensor device: cpu\n"
          ]
        }
      ]
    },
    {
      "cell_type": "code",
      "source": [
        "numpy_data = np.array(list_data)\n",
        "tensor2_1 = torch.from_numpy(numpy_data)\n",
        "\n",
        "print(tensor2_1)\n",
        "print(f\"tensor type: {type(tensor2_1)}, tensor shape: {tensor2_1.shape}\")\n",
        "print(f\"tensor dtype: {tensor2_1.dtype}, tensor device: {tensor2_1.device}\") # int -> type casting\n",
        "\n",
        "tensor2_2 = torch.from_numpy(numpy_data).float()\n",
        "print('====================================')\n",
        "\n",
        "print(tensor2_2)\n",
        "print(f\"tensor type: {type(tensor2_2)}, tensor shape: {tensor2_2.shape}\")\n",
        "print(f\"tensor dtype: {tensor2_2.dtype}, tensor device: {tensor2_2.device}\")"
      ],
      "metadata": {
        "colab": {
          "base_uri": "https://localhost:8080/"
        },
        "id": "hsZt6YL9dGE1",
        "outputId": "c3ad6393-606d-4ed8-d6a9-cf2929b606ef"
      },
      "execution_count": 8,
      "outputs": [
        {
          "output_type": "stream",
          "name": "stdout",
          "text": [
            "tensor([[10, 20],\n",
            "        [30, 40]])\n",
            "tensor type: <class 'torch.Tensor'>, tensor shape: torch.Size([2, 2])\n",
            "tensor dtype: torch.int64, tensor device: cpu\n",
            "====================================\n",
            "tensor([[10., 20.],\n",
            "        [30., 40.]])\n",
            "tensor type: <class 'torch.Tensor'>, tensor shape: torch.Size([2, 2])\n",
            "tensor dtype: torch.float32, tensor device: cpu\n"
          ]
        }
      ]
    },
    {
      "cell_type": "code",
      "source": [
        "tensor3 = torch.rand(2,2)\n",
        "print(tensor3)\n",
        "\n",
        "tensor4 = torch.randn(2,2) # 정규분포 (0,1) 에서 랜덤 샘플링 -> 자주 쓰임\n",
        "print(tensor4)\n",
        "print('====================================')\n",
        "tensor5 = torch.randn(2, 2)\n",
        "print(tensor5)\n",
        "\n",
        "numpy_from_tensor = tensor5.numpy()\n",
        "print(numpy_from_tensor) # tensor에서 numpy 배열로 바꾸는 방법"
      ],
      "metadata": {
        "colab": {
          "base_uri": "https://localhost:8080/"
        },
        "id": "YE6ipP7_d3rD",
        "outputId": "6840657e-1597-49e5-99a5-c068b4e114a4"
      },
      "execution_count": 12,
      "outputs": [
        {
          "output_type": "stream",
          "name": "stdout",
          "text": [
            "tensor([[0.1914, 0.4198],\n",
            "        [0.2155, 0.8914]])\n",
            "tensor([[-1.0429,  0.0426],\n",
            "        [ 0.3475,  0.5117]])\n",
            "====================================\n",
            "tensor([[-0.4611,  1.5066],\n",
            "        [ 1.4222, -0.4671]])\n",
            "[[-0.461085    1.5066316 ]\n",
            " [ 1.4221559  -0.46713454]]\n"
          ]
        }
      ]
    },
    {
      "cell_type": "markdown",
      "source": [
        "### tensor 연산"
      ],
      "metadata": {
        "id": "GiUQztJKefQw"
      }
    },
    {
      "cell_type": "code",
      "source": [
        "tensor6 = torch.Tensor([[1,2,3], [4,5,6]])\n",
        "tensor7 = torch.Tensor([[7,8,9], [10,11,12]])\n",
        "\n",
        "print(tensor6[0])\n",
        "print(tensor6[:, 1:])\n",
        "print(tensor7[0:2, 0:-1])\n",
        "print(tensor7[-1, -1])\n",
        "print(tensor7[... , -2])"
      ],
      "metadata": {
        "colab": {
          "base_uri": "https://localhost:8080/"
        },
        "id": "ik93Hwrzeehh",
        "outputId": "a0dbbcd7-745b-4f2a-8402-e834522b3c3c"
      },
      "execution_count": 13,
      "outputs": [
        {
          "output_type": "stream",
          "name": "stdout",
          "text": [
            "tensor([1., 2., 3.])\n",
            "tensor([[2., 3.],\n",
            "        [5., 6.]])\n",
            "tensor([[ 7.,  8.],\n",
            "        [10., 11.]])\n",
            "tensor(12.)\n",
            "tensor([ 8., 11.])\n"
          ]
        }
      ]
    },
    {
      "cell_type": "code",
      "source": [
        "tensor8 = tensor6.mul(tensor7)\n",
        "\n",
        "print(tensor8)"
      ],
      "metadata": {
        "colab": {
          "base_uri": "https://localhost:8080/"
        },
        "id": "6gruvOY8e82L",
        "outputId": "bbfdf56b-02a5-4742-af4f-5863baf41d21"
      },
      "execution_count": 14,
      "outputs": [
        {
          "output_type": "stream",
          "name": "stdout",
          "text": [
            "tensor([[ 7., 16., 27.],\n",
            "        [40., 55., 72.]])\n"
          ]
        }
      ]
    },
    {
      "cell_type": "code",
      "source": [
        "tensor9 = tensor6.matmul(tensor7) # tensor6 @ tensor 7 계산 불가 -> 배열 바꿔야"
      ],
      "metadata": {
        "colab": {
          "base_uri": "https://localhost:8080/",
          "height": 147
        },
        "id": "WgEterSMfCPk",
        "outputId": "7190febe-6375-41a9-d848-0cb2380209ab"
      },
      "execution_count": 15,
      "outputs": [
        {
          "output_type": "error",
          "ename": "RuntimeError",
          "evalue": "mat1 and mat2 shapes cannot be multiplied (2x3 and 2x3)",
          "traceback": [
            "\u001b[0;31m---------------------------------------------------------------------------\u001b[0m",
            "\u001b[0;31mRuntimeError\u001b[0m                              Traceback (most recent call last)",
            "\u001b[0;32m<ipython-input-15-491f59d52f62>\u001b[0m in \u001b[0;36m<cell line: 0>\u001b[0;34m()\u001b[0m\n\u001b[0;32m----> 1\u001b[0;31m \u001b[0mtensor9\u001b[0m \u001b[0;34m=\u001b[0m \u001b[0mtensor6\u001b[0m\u001b[0;34m.\u001b[0m\u001b[0mmatmul\u001b[0m\u001b[0;34m(\u001b[0m\u001b[0mtensor7\u001b[0m\u001b[0;34m)\u001b[0m\u001b[0;34m\u001b[0m\u001b[0;34m\u001b[0m\u001b[0m\n\u001b[0m",
            "\u001b[0;31mRuntimeError\u001b[0m: mat1 and mat2 shapes cannot be multiplied (2x3 and 2x3)"
          ]
        }
      ]
    },
    {
      "cell_type": "code",
      "source": [
        "tensor7.view(3,2)"
      ],
      "metadata": {
        "colab": {
          "base_uri": "https://localhost:8080/"
        },
        "id": "yzW5khm_fM1f",
        "outputId": "41816e95-3a61-4ab9-b768-530af66d1c7f"
      },
      "execution_count": 16,
      "outputs": [
        {
          "output_type": "execute_result",
          "data": {
            "text/plain": [
              "tensor([[ 7.,  8.],\n",
              "        [ 9., 10.],\n",
              "        [11., 12.]])"
            ]
          },
          "metadata": {},
          "execution_count": 16
        }
      ]
    },
    {
      "cell_type": "code",
      "source": [
        "tensor9 = tensor6.matmul(tensor7.view(3,2))\n",
        "print(tensor9)"
      ],
      "metadata": {
        "colab": {
          "base_uri": "https://localhost:8080/"
        },
        "id": "Tq9abXcRfSKN",
        "outputId": "b3892faf-b6e5-4223-ae54-84a1bca4ddcb"
      },
      "execution_count": 17,
      "outputs": [
        {
          "output_type": "stream",
          "name": "stdout",
          "text": [
            "tensor([[ 58.,  64.],\n",
            "        [139., 154.]])\n"
          ]
        }
      ]
    },
    {
      "cell_type": "markdown",
      "source": [
        "### Tensor 합치기 (Concatenate)"
      ],
      "metadata": {
        "id": "twMuR3Q1fX5P"
      }
    },
    {
      "cell_type": "code",
      "source": [
        "tensor_cat = torch.cat([tensor6, tensor7])\n",
        "print(tensor_cat)"
      ],
      "metadata": {
        "colab": {
          "base_uri": "https://localhost:8080/"
        },
        "id": "Al2ytFhrfawA",
        "outputId": "08f7cdc5-4636-4e96-b9b0-cb36f7c8d26b"
      },
      "execution_count": 19,
      "outputs": [
        {
          "output_type": "stream",
          "name": "stdout",
          "text": [
            "tensor([[ 1.,  2.,  3.],\n",
            "        [ 4.,  5.,  6.],\n",
            "        [ 7.,  8.,  9.],\n",
            "        [10., 11., 12.]])\n"
          ]
        }
      ]
    },
    {
      "cell_type": "code",
      "source": [
        "tensor_cat_dim0 = torch.cat([tensor6, tensor7], dim = 0)\n",
        "print(tensor_cat_dim0)"
      ],
      "metadata": {
        "colab": {
          "base_uri": "https://localhost:8080/"
        },
        "id": "ZacFFExgfayd",
        "outputId": "e55ea1d0-b3f4-4a61-84d0-29eb675d72de"
      },
      "execution_count": 21,
      "outputs": [
        {
          "output_type": "stream",
          "name": "stdout",
          "text": [
            "tensor([[ 1.,  2.,  3.],\n",
            "        [ 4.,  5.,  6.],\n",
            "        [ 7.,  8.,  9.],\n",
            "        [10., 11., 12.]])\n"
          ]
        }
      ]
    },
    {
      "cell_type": "code",
      "source": [
        "tensor_cat_dim1 = torch.cat([tensor6, tensor7], dim = 1)\n",
        "print(tensor_cat_dim1)"
      ],
      "metadata": {
        "colab": {
          "base_uri": "https://localhost:8080/"
        },
        "id": "rHvWCb0ffa1C",
        "outputId": "7e976a04-1803-4e17-d7f6-11d27d61e381"
      },
      "execution_count": 22,
      "outputs": [
        {
          "output_type": "stream",
          "name": "stdout",
          "text": [
            "tensor([[ 1.,  2.,  3.,  7.,  8.,  9.],\n",
            "        [ 4.,  5.,  6., 10., 11., 12.]])\n"
          ]
        }
      ]
    }
  ]
}