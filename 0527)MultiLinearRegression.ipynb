{
  "nbformat": 4,
  "nbformat_minor": 0,
  "metadata": {
    "colab": {
      "private_outputs": true,
      "provenance": [],
      "mount_file_id": "1CUn1OjUSIzrCBoK9EqADKiS1YgVtkUVl",
      "authorship_tag": "ABX9TyMznSXOFJZvT+QE9VWdiIAJ",
      "include_colab_link": true
    },
    "kernelspec": {
      "name": "python3",
      "display_name": "Python 3"
    },
    "language_info": {
      "name": "python"
    }
  },
  "cells": [
    {
      "cell_type": "markdown",
      "metadata": {
        "id": "view-in-github",
        "colab_type": "text"
      },
      "source": [
        "<a href=\"https://colab.research.google.com/github/ymk713/Pytorch_study/blob/main/0527)MultiLinearRegression.ipynb\" target=\"_parent\"><img src=\"https://colab.research.google.com/assets/colab-badge.svg\" alt=\"Open In Colab\"/></a>"
      ]
    },
    {
      "cell_type": "markdown",
      "source": [
        "## 데이터 정의"
      ],
      "metadata": {
        "id": "z6xK06zzb6bM"
      }
    },
    {
      "cell_type": "code",
      "execution_count": null,
      "metadata": {
        "id": "dNMFk_yPWhtT"
      },
      "outputs": [],
      "source": [
        "import numpy as np\n",
        "data = np.loadtxt('/content/drive/MyDrive/파이토치/LEC06_TrainData.csv', delimiter = ',')\n",
        "x_train = data[:, 0:-1]\n",
        "y_train = data[:, [-1]]\n",
        "print(data[:3])\n",
        "print('===================')\n",
        "print(x_train[:3])\n",
        "print('===================')\n",
        "print(y_train[:3])"
      ]
    },
    {
      "cell_type": "code",
      "source": [
        "import torch\n",
        "from torch import nn"
      ],
      "metadata": {
        "id": "ZCOJOxojZcvp"
      },
      "execution_count": null,
      "outputs": []
    },
    {
      "cell_type": "code",
      "source": [
        "x_train = torch.Tensor(x_train)\n",
        "y_train = torch.Tensor(y_train)\n",
        "print(x_train)"
      ],
      "metadata": {
        "id": "9zdFiM0kZcyF"
      },
      "execution_count": null,
      "outputs": []
    },
    {
      "cell_type": "markdown",
      "source": [
        "## 신경망 모델 구축"
      ],
      "metadata": {
        "id": "107VDJH8b-6n"
      }
    },
    {
      "cell_type": "code",
      "source": [
        "from torch import nn\n",
        "\n",
        "class MyLinearRegressionModel(nn.Module):\n",
        "\n",
        "    def __init__(self, input_nodes):\n",
        "        super().__init__()\n",
        "        self.linear_stack = nn.Sequential(\n",
        "            nn.Linear(input_nodes, 1) ## input_nodes :  nn.Linear 계층 입력 데이터(노드) 개수 / 1 : nn.Linear 계층 출력 데이터(노드) 개수\n",
        "        )\n",
        "\n",
        "    def forward(self, data):\n",
        "        prediction = self.linear_stack(data)\n",
        "\n",
        "        return prediction"
      ],
      "metadata": {
        "id": "Gm4rzpRFZc0b"
      },
      "execution_count": null,
      "outputs": []
    },
    {
      "cell_type": "code",
      "source": [
        "model = MyLinearRegressionModel(3) # 입력 데이터 3개인 선형회귀 모델 인스턴스 생성\n",
        "\n",
        "for name, child in model.named_children(): # 모델 파라미터 (가중치, 바이어스) 값 확인 --> 초기화되어있음\n",
        "    for param in child.parameters():\n",
        "        print(name, param)"
      ],
      "metadata": {
        "id": "bsJa4q3wZc2x"
      },
      "execution_count": null,
      "outputs": []
    },
    {
      "cell_type": "markdown",
      "source": [
        "## 손실함수 및 옵티마이저 설정"
      ],
      "metadata": {
        "id": "FqHZl5jFcD7n"
      }
    },
    {
      "cell_type": "code",
      "source": [
        "loss_function = nn.MSELoss()\n",
        "optimizer = torch.optim.SGD(model.parameters(), lr=1e-2)"
      ],
      "metadata": {
        "id": "vm_AsmVPZc5J"
      },
      "execution_count": null,
      "outputs": []
    },
    {
      "cell_type": "code",
      "source": [
        "loss_list = []\n",
        "nums_epoch = 2000\n",
        "\n",
        "for epoch in range(nums_epoch+1):\n",
        "\n",
        "    prediction = model(x_train)\n",
        "    loss = loss_function(prediction, y_train)\n",
        "\n",
        "    loss_list.append(loss.item())\n",
        "\n",
        "    optimizer.zero_grad()\n",
        "    loss.backward()\n",
        "    optimizer.step()\n",
        "\n",
        "    if epoch % 100 == 0:\n",
        "        print('epoch = ', epoch, ' current loss = ', loss.item())"
      ],
      "metadata": {
        "id": "D362lfjgZc7W"
      },
      "execution_count": null,
      "outputs": []
    },
    {
      "cell_type": "markdown",
      "source": [
        "## 테스트 데이터 예"
      ],
      "metadata": {
        "id": "3euz8vvddKxc"
      }
    },
    {
      "cell_type": "code",
      "source": [
        "for name, child in model.named_children():\n",
        "    for param in child.parameters():\n",
        "        print(name, param)"
      ],
      "metadata": {
        "id": "HBCWIs8ldHte"
      },
      "execution_count": null,
      "outputs": []
    },
    {
      "cell_type": "code",
      "source": [
        "x_test = torch.Tensor([ [5, 5, 0], [2, 3, 1], [-1, 0, -1], [10, 5, 2], [4, -1, -2] ])\n",
        "label = [2*data[0] -3*data[1] + 2*data[2] for data in x_test]\n",
        "pred = model(x_test)\n",
        "print(pred)\n",
        "print('=============================================')\n",
        "print(label)"
      ],
      "metadata": {
        "id": "EsUb676wdHvw"
      },
      "execution_count": null,
      "outputs": []
    },
    {
      "cell_type": "code",
      "source": [
        "import matplotlib.pyplot as plt\n",
        "plt.title('Loss Trend')\n",
        "plt.xlabel('epochs')\n",
        "plt.ylabel('loss')\n",
        "plt.grid()\n",
        "\n",
        "plt.plot(loss_list, label = 'train loss')\n",
        "plt.legend(loc = 'best')\n",
        "plt.show()"
      ],
      "metadata": {
        "id": "ouDMZ_hQdHyH"
      },
      "execution_count": null,
      "outputs": []
    },
    {
      "cell_type": "code",
      "source": [],
      "metadata": {
        "id": "P0fwwlMZdH0r"
      },
      "execution_count": null,
      "outputs": []
    },
    {
      "cell_type": "code",
      "source": [],
      "metadata": {
        "id": "MCl3pT9hdH3N"
      },
      "execution_count": null,
      "outputs": []
    }
  ]
}